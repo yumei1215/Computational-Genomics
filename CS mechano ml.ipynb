{
 "cells": [
  {
   "cell_type": "markdown",
   "metadata": {},
   "source": [
    "# Predicting mechanosensing functionalities from protein sequences (Yumei Chen, Yizhong Hu) - ML"
   ]
  },
  {
   "cell_type": "code",
   "execution_count": 1,
   "metadata": {},
   "outputs": [
    {
     "name": "stdout",
     "output_type": "stream",
     "text": [
      "Collecting tensorflow\n",
      "  Downloading tensorflow-2.2.0-cp37-cp37m-macosx_10_11_x86_64.whl (175.3 MB)\n",
      "\u001b[K     |████████████████████████████████| 175.3 MB 1.5 MB/s eta 0:00:01    |███▋                            | 20.0 MB 241 kB/s eta 0:10:45     |██████████████████▋             | 102.1 MB 3.1 MB/s eta 0:00:24     |██████████████████████████████▉ | 168.7 MB 1.5 MB/s eta 0:00:05\n",
      "\u001b[?25hCollecting tensorboard<2.3.0,>=2.2.0\n",
      "  Downloading tensorboard-2.2.1-py3-none-any.whl (3.0 MB)\n",
      "\u001b[K     |████████████████████████████████| 3.0 MB 1.1 MB/s eta 0:00:01\n",
      "\u001b[?25hRequirement already satisfied: wheel>=0.26; python_version >= \"3\" in /Users/yumeichen/opt/anaconda3/lib/python3.7/site-packages (from tensorflow) (0.34.2)\n",
      "Collecting tensorflow-estimator<2.3.0,>=2.2.0\n",
      "  Downloading tensorflow_estimator-2.2.0-py2.py3-none-any.whl (454 kB)\n",
      "\u001b[K     |████████████████████████████████| 454 kB 917 kB/s eta 0:00:01\n",
      "\u001b[?25hCollecting termcolor>=1.1.0\n",
      "  Downloading termcolor-1.1.0.tar.gz (3.9 kB)\n",
      "Collecting absl-py>=0.7.0\n",
      "  Downloading absl-py-0.9.0.tar.gz (104 kB)\n",
      "\u001b[K     |████████████████████████████████| 104 kB 1.7 MB/s eta 0:00:01\n",
      "\u001b[?25hRequirement already satisfied: h5py<2.11.0,>=2.10.0 in /Users/yumeichen/opt/anaconda3/lib/python3.7/site-packages (from tensorflow) (2.10.0)\n",
      "Requirement already satisfied: six>=1.12.0 in /Users/yumeichen/opt/anaconda3/lib/python3.7/site-packages (from tensorflow) (1.14.0)\n",
      "Collecting astunparse==1.6.3\n",
      "  Downloading astunparse-1.6.3-py2.py3-none-any.whl (12 kB)\n",
      "Collecting protobuf>=3.8.0\n",
      "  Downloading protobuf-3.11.3-cp37-cp37m-macosx_10_9_x86_64.whl (1.3 MB)\n",
      "\u001b[K     |████████████████████████████████| 1.3 MB 1.1 MB/s eta 0:00:01\n",
      "\u001b[?25hCollecting keras-preprocessing>=1.1.0\n",
      "  Downloading Keras_Preprocessing-1.1.0-py2.py3-none-any.whl (41 kB)\n",
      "\u001b[K     |████████████████████████████████| 41 kB 749 kB/s eta 0:00:01\n",
      "\u001b[?25hCollecting opt-einsum>=2.3.2\n",
      "  Downloading opt_einsum-3.2.1-py3-none-any.whl (63 kB)\n",
      "\u001b[K     |████████████████████████████████| 63 kB 1.0 MB/s eta 0:00:01\n",
      "\u001b[?25hCollecting gast==0.3.3\n",
      "  Downloading gast-0.3.3-py2.py3-none-any.whl (9.7 kB)\n",
      "Requirement already satisfied: wrapt>=1.11.1 in /Users/yumeichen/opt/anaconda3/lib/python3.7/site-packages (from tensorflow) (1.11.2)\n",
      "Requirement already satisfied: numpy<2.0,>=1.16.0 in /Users/yumeichen/opt/anaconda3/lib/python3.7/site-packages (from tensorflow) (1.18.1)\n",
      "Collecting grpcio>=1.8.6\n",
      "  Downloading grpcio-1.28.1-cp37-cp37m-macosx_10_9_x86_64.whl (2.6 MB)\n",
      "\u001b[K     |████████████████████████████████| 2.6 MB 1.4 MB/s eta 0:00:01\n",
      "\u001b[?25hCollecting google-pasta>=0.1.8\n",
      "  Downloading google_pasta-0.2.0-py3-none-any.whl (57 kB)\n",
      "\u001b[K     |████████████████████████████████| 57 kB 2.2 MB/s eta 0:00:01\n",
      "\u001b[?25hRequirement already satisfied: scipy==1.4.1; python_version >= \"3\" in /Users/yumeichen/opt/anaconda3/lib/python3.7/site-packages (from tensorflow) (1.4.1)\n",
      "Collecting google-auth-oauthlib<0.5,>=0.4.1\n",
      "  Downloading google_auth_oauthlib-0.4.1-py2.py3-none-any.whl (18 kB)\n",
      "Collecting google-auth<2,>=1.6.3\n",
      "  Downloading google_auth-1.14.2-py2.py3-none-any.whl (89 kB)\n",
      "\u001b[K     |████████████████████████████████| 89 kB 1.4 MB/s eta 0:00:01\n",
      "\u001b[?25hCollecting markdown>=2.6.8\n",
      "  Downloading Markdown-3.2.1-py2.py3-none-any.whl (88 kB)\n",
      "\u001b[K     |████████████████████████████████| 88 kB 2.0 MB/s eta 0:00:01\n",
      "\u001b[?25hRequirement already satisfied: requests<3,>=2.21.0 in /Users/yumeichen/opt/anaconda3/lib/python3.7/site-packages (from tensorboard<2.3.0,>=2.2.0->tensorflow) (2.22.0)\n",
      "Requirement already satisfied: setuptools>=41.0.0 in /Users/yumeichen/opt/anaconda3/lib/python3.7/site-packages (from tensorboard<2.3.0,>=2.2.0->tensorflow) (46.0.0.post20200309)\n",
      "Collecting tensorboard-plugin-wit>=1.6.0\n",
      "  Downloading tensorboard_plugin_wit-1.6.0.post3-py3-none-any.whl (777 kB)\n",
      "\u001b[K     |████████████████████████████████| 777 kB 1.5 MB/s eta 0:00:01\n",
      "\u001b[?25hRequirement already satisfied: werkzeug>=0.11.15 in /Users/yumeichen/opt/anaconda3/lib/python3.7/site-packages (from tensorboard<2.3.0,>=2.2.0->tensorflow) (1.0.0)\n",
      "Collecting requests-oauthlib>=0.7.0\n",
      "  Downloading requests_oauthlib-1.3.0-py2.py3-none-any.whl (23 kB)\n",
      "Collecting cachetools<5.0,>=2.0.0\n",
      "  Downloading cachetools-4.1.0-py3-none-any.whl (10 kB)\n",
      "Collecting pyasn1-modules>=0.2.1\n",
      "  Downloading pyasn1_modules-0.2.8-py2.py3-none-any.whl (155 kB)\n",
      "\u001b[K     |████████████████████████████████| 155 kB 1.0 MB/s eta 0:00:01\n",
      "\u001b[?25hCollecting rsa<4.1,>=3.1.4\n",
      "  Downloading rsa-4.0-py2.py3-none-any.whl (38 kB)\n",
      "Requirement already satisfied: idna<2.9,>=2.5 in /Users/yumeichen/opt/anaconda3/lib/python3.7/site-packages (from requests<3,>=2.21.0->tensorboard<2.3.0,>=2.2.0->tensorflow) (2.8)\n",
      "Requirement already satisfied: urllib3!=1.25.0,!=1.25.1,<1.26,>=1.21.1 in /Users/yumeichen/opt/anaconda3/lib/python3.7/site-packages (from requests<3,>=2.21.0->tensorboard<2.3.0,>=2.2.0->tensorflow) (1.25.8)\n",
      "Requirement already satisfied: certifi>=2017.4.17 in /Users/yumeichen/opt/anaconda3/lib/python3.7/site-packages (from requests<3,>=2.21.0->tensorboard<2.3.0,>=2.2.0->tensorflow) (2019.11.28)\n",
      "Requirement already satisfied: chardet<3.1.0,>=3.0.2 in /Users/yumeichen/opt/anaconda3/lib/python3.7/site-packages (from requests<3,>=2.21.0->tensorboard<2.3.0,>=2.2.0->tensorflow) (3.0.4)\n",
      "Collecting oauthlib>=3.0.0\n",
      "  Downloading oauthlib-3.1.0-py2.py3-none-any.whl (147 kB)\n",
      "\u001b[K     |████████████████████████████████| 147 kB 1.7 MB/s eta 0:00:01\n",
      "\u001b[?25hCollecting pyasn1<0.5.0,>=0.4.6\n",
      "  Downloading pyasn1-0.4.8-py2.py3-none-any.whl (77 kB)\n",
      "\u001b[K     |████████████████████████████████| 77 kB 1.6 MB/s eta 0:00:01\n",
      "\u001b[?25hBuilding wheels for collected packages: termcolor, absl-py\n",
      "  Building wheel for termcolor (setup.py) ... \u001b[?25ldone\n",
      "\u001b[?25h  Created wheel for termcolor: filename=termcolor-1.1.0-py3-none-any.whl size=4830 sha256=02817fdabd3a67b28c8a18a633808318f9d241566490ba94d7e6046c8d55513f\n",
      "  Stored in directory: /Users/yumeichen/Library/Caches/pip/wheels/3f/e3/ec/8a8336ff196023622fbcb36de0c5a5c218cbb24111d1d4c7f2\n",
      "  Building wheel for absl-py (setup.py) ... \u001b[?25ldone\n",
      "\u001b[?25h  Created wheel for absl-py: filename=absl_py-0.9.0-py3-none-any.whl size=121931 sha256=55db705c2c1b112476db67b07fb91a843032f567a0517c00217c2f07aa80471c\n",
      "  Stored in directory: /Users/yumeichen/Library/Caches/pip/wheels/cc/af/1a/498a24d0730ef484019e007bb9e8cef3ac00311a672c049a3e\n",
      "Successfully built termcolor absl-py\n",
      "Installing collected packages: cachetools, pyasn1, pyasn1-modules, rsa, google-auth, oauthlib, requests-oauthlib, google-auth-oauthlib, grpcio, markdown, tensorboard-plugin-wit, absl-py, protobuf, tensorboard, tensorflow-estimator, termcolor, astunparse, keras-preprocessing, opt-einsum, gast, google-pasta, tensorflow\n",
      "Successfully installed absl-py-0.9.0 astunparse-1.6.3 cachetools-4.1.0 gast-0.3.3 google-auth-1.14.2 google-auth-oauthlib-0.4.1 google-pasta-0.2.0 grpcio-1.28.1 keras-preprocessing-1.1.0 markdown-3.2.1 oauthlib-3.1.0 opt-einsum-3.2.1 protobuf-3.11.3 pyasn1-0.4.8 pyasn1-modules-0.2.8 requests-oauthlib-1.3.0 rsa-4.0 tensorboard-2.2.1 tensorboard-plugin-wit-1.6.0.post3 tensorflow-2.2.0 tensorflow-estimator-2.2.0 termcolor-1.1.0\n"
     ]
    }
   ],
   "source": [
    "!pip install tensorflow"
   ]
  },
  {
   "cell_type": "code",
   "execution_count": 3,
   "metadata": {},
   "outputs": [
    {
     "name": "stdout",
     "output_type": "stream",
     "text": [
      "Collecting keras\n",
      "  Downloading Keras-2.3.1-py2.py3-none-any.whl (377 kB)\n",
      "\u001b[K     |████████████████████████████████| 377 kB 614 kB/s eta 0:00:01\n",
      "\u001b[?25hRequirement already satisfied: keras-preprocessing>=1.0.5 in /Users/yumeichen/opt/anaconda3/lib/python3.7/site-packages (from keras) (1.1.0)\n",
      "Requirement already satisfied: numpy>=1.9.1 in /Users/yumeichen/opt/anaconda3/lib/python3.7/site-packages (from keras) (1.18.1)\n",
      "Collecting keras-applications>=1.0.6\n",
      "  Downloading Keras_Applications-1.0.8-py3-none-any.whl (50 kB)\n",
      "\u001b[K     |████████████████████████████████| 50 kB 1.9 MB/s eta 0:00:01\n",
      "\u001b[?25hRequirement already satisfied: pyyaml in /Users/yumeichen/opt/anaconda3/lib/python3.7/site-packages (from keras) (5.3)\n",
      "Requirement already satisfied: h5py in /Users/yumeichen/opt/anaconda3/lib/python3.7/site-packages (from keras) (2.10.0)\n",
      "Requirement already satisfied: scipy>=0.14 in /Users/yumeichen/opt/anaconda3/lib/python3.7/site-packages (from keras) (1.4.1)\n",
      "Requirement already satisfied: six>=1.9.0 in /Users/yumeichen/opt/anaconda3/lib/python3.7/site-packages (from keras) (1.14.0)\n",
      "Installing collected packages: keras-applications, keras\n",
      "Successfully installed keras-2.3.1 keras-applications-1.0.8\n"
     ]
    }
   ],
   "source": [
    "!pip install keras"
   ]
  },
  {
   "cell_type": "code",
   "execution_count": 1,
   "metadata": {},
   "outputs": [],
   "source": [
    "import tensorflow as tf"
   ]
  },
  {
   "cell_type": "code",
   "execution_count": 2,
   "metadata": {},
   "outputs": [
    {
     "name": "stderr",
     "output_type": "stream",
     "text": [
      "Using TensorFlow backend.\n"
     ]
    }
   ],
   "source": [
    "import numpy as np\n",
    "from scipy.io import wavfile\n",
    "import matplotlib.pyplot as plt\n",
    "import matplotlib.pylab as pl\n",
    "%matplotlib inline\n",
    "import pandas as pd\n",
    "from scipy.signal import decimate\n",
    "from sklearn.model_selection import train_test_split, KFold, cross_val_score, cross_val_predict\n",
    "from sklearn.metrics import accuracy_score\n",
    "\n",
    "from keras.models import Sequential\n",
    "from keras.layers import Conv1D, MaxPool1D, GlobalAvgPool1D, Dropout, BatchNormalization, Dense\n",
    "from keras.optimizers import Adam\n",
    "from keras.callbacks import ModelCheckpoint, LearningRateScheduler, EarlyStopping\n",
    "from keras.utils import np_utils\n",
    "from keras.utils import to_categorical\n",
    "from keras.regularizers import l2\n",
    "\n",
    "import gc"
   ]
  },
  {
   "cell_type": "code",
   "execution_count": 3,
   "metadata": {},
   "outputs": [],
   "source": [
    "import xlrd\n",
    "import seaborn as sns\n",
    "import matplotlib.pyplot as plt"
   ]
  },
  {
   "cell_type": "markdown",
   "metadata": {},
   "source": [
    "# Data Gathering and preparation"
   ]
  },
  {
   "cell_type": "code",
   "execution_count": 4,
   "metadata": {},
   "outputs": [],
   "source": [
    "def datainput(filename):\n",
    "    f = open(filename,'r')\n",
    "    seq = {}\n",
    "    for line in f:\n",
    "        if line.startswith('>'):\n",
    "                name=line.replace('>','').split()[0]\n",
    "                seq[name]=''\n",
    "        else:\n",
    "                seq[name]+=line.replace('\\n','').strip()\n",
    "    return seq"
   ]
  },
  {
   "cell_type": "code",
   "execution_count": 5,
   "metadata": {},
   "outputs": [],
   "source": [
    "seq1human = datainput('/Users/yumeichen/Desktop/Data/Mamaliam/uniprot-mechanosensitive-filtered-organism__Homo+sapiens+(Human)+[9606--.fasta.txt')\n",
    "seq2human = datainput('/Users/yumeichen/Desktop/Data/Mamaliam/uniprot-cellular+response+to+mechanical+stimulus+reviewed_yes+organism__Ho--.fasta.txt')\n",
    "seq1mouse = datainput('/Users/yumeichen/Desktop/Data/Mamaliam/uniprot-mechanosensitive-filtered-reviewed_yes+AND+organism__Mus+musculus+--.fasta.txt')\n",
    "seq2mouse = datainput('/Users/yumeichen/Desktop/Data/Mamaliam/uniprot-cellular+response+mechanical+stimulus+NOT+mechanosensitive+reviewed_ye--.fasta.txt')\n",
    "seq1rat = datainput('/Users/yumeichen/Desktop/Data/Mamaliam/uniprot-mechanosensitive-filtered-organism__Rattus+norvegicus+(Rat)+[1--.fasta.txt')\n",
    "seq2rat = datainput('/Users/yumeichen/Desktop/Data/Mamaliam/uniprot-cellular+response+mechanical+stimulus+NOT+mechanosensitive-filtered-orga--.fasta.txt')"
   ]
  },
  {
   "cell_type": "code",
   "execution_count": 6,
   "metadata": {},
   "outputs": [],
   "source": [
    "seq1ecoli = datainput('/Users/yumeichen/Desktop/Data/Bacteria and plant/uniprot-mechanosensitive+AND+reviewed_yes+AND+organism__Escherichia+coli%2--.fasta.txt')\n",
    "seq1athe = datainput('/Users/yumeichen/Desktop/Data/Bacteria and plant/mechanosensitive-A.thaliana.txt')"
   ]
  },
  {
   "cell_type": "code",
   "execution_count": 7,
   "metadata": {},
   "outputs": [
    {
     "name": "stdout",
     "output_type": "stream",
     "text": [
      "human sample1: 16\n",
      "human sample2: 157\n",
      "mouse sample1: 15\n",
      "mouse sample2: 164\n",
      "rat sample1: 6\n",
      "rat sample2: 176\n",
      "E coli sample1: 29\n",
      "A the sample1: 25\n"
     ]
    }
   ],
   "source": [
    "print ('human sample1:',len(seq1human))\n",
    "print ('human sample2:',len(seq2human))\n",
    "print ('mouse sample1:',len(seq1mouse))\n",
    "print ('mouse sample2:',len(seq2mouse))\n",
    "print ('rat sample1:',len(seq1rat))\n",
    "print ('rat sample2:',len(seq2rat))\n",
    "print ('E coli sample1:',len(seq1ecoli))\n",
    "print ('A the sample1:',len(seq1athe))"
   ]
  },
  {
   "cell_type": "code",
   "execution_count": 8,
   "metadata": {},
   "outputs": [
    {
     "name": "stdout",
     "output_type": "stream",
     "text": [
      "positive mamaliam samples: 534\n"
     ]
    }
   ],
   "source": [
    "positivem = {}\n",
    "for k,v in seq1human.items():\n",
    "    positivem[k] = v\n",
    "    \n",
    "for k,v in seq2human.items():\n",
    "    positivem[k] = v\n",
    "    \n",
    "for k,v in seq1mouse.items():\n",
    "    positivem[k] = v\n",
    "    \n",
    "for k,v in seq2mouse.items():\n",
    "    positivem[k] = v\n",
    "    \n",
    "for k,v in seq1rat.items():\n",
    "    positivem[k] = v\n",
    "    \n",
    "for k,v in seq2rat.items():\n",
    "    positivem[k] = v\n",
    "    \n",
    "print('positive mamaliam samples:', len(positivem))"
   ]
  },
  {
   "cell_type": "code",
   "execution_count": 9,
   "metadata": {},
   "outputs": [
    {
     "name": "stdout",
     "output_type": "stream",
     "text": [
      "positive bacteria and plant samples: 54\n"
     ]
    }
   ],
   "source": [
    "positiveb = {}\n",
    "for k,v in seq1ecoli.items():\n",
    "    positiveb[k] = v\n",
    "    \n",
    "for k,v in seq1athe.items():\n",
    "    positiveb[k] = v\n",
    "    \n",
    "print('positive bacteria and plant samples:', len(positiveb))"
   ]
  },
  {
   "cell_type": "code",
   "execution_count": 10,
   "metadata": {},
   "outputs": [],
   "source": [
    "negativehuman = datainput('/Users/yumeichen/Desktop/Data/negative/uniprot-yourlist_M20200430DA437993067D6F64326E5E763500BDED17EC2DV.fasta.txt')\n",
    "negativerat = datainput('/Users/yumeichen/Desktop/Data/negative/uniprot-yourlist_M20200430DA437993067D6F64326E5E763500BDED17ED97S.fasta.txt')\n",
    "negativemouse = datainput('/Users/yumeichen/Desktop/Data/negative/uniprot-yourlist_M20200430E5A08BB0B2D1C45B0C7BC3B55FD2655683F1A8I.fasta.txt')"
   ]
  },
  {
   "cell_type": "code",
   "execution_count": 11,
   "metadata": {},
   "outputs": [
    {
     "name": "stdout",
     "output_type": "stream",
     "text": [
      "negative samples: 549\n"
     ]
    }
   ],
   "source": [
    "negatives = {}\n",
    "for k,v in negativehuman.items():\n",
    "    negatives[k] = v\n",
    "    \n",
    "for k,v in negativerat.items():\n",
    "    negatives[k] = v\n",
    "    \n",
    "for k,v in negativemouse.items():\n",
    "    negatives[k] = v\n",
    "print('negative samples:', len(negatives))"
   ]
  },
  {
   "cell_type": "code",
   "execution_count": 12,
   "metadata": {},
   "outputs": [],
   "source": [
    "a = pd.DataFrame.from_dict(positivem,orient='index',columns = ['sequence'])\n",
    "a = a.reset_index().rename(columns = {'index':'id'})\n",
    "b = pd.DataFrame.from_dict(negatives,orient='index',columns = ['sequence'])\n",
    "b = b.reset_index().rename(columns = {'index':'id'})"
   ]
  },
  {
   "cell_type": "code",
   "execution_count": 13,
   "metadata": {},
   "outputs": [
    {
     "data": {
      "text/html": [
       "<div>\n",
       "<style scoped>\n",
       "    .dataframe tbody tr th:only-of-type {\n",
       "        vertical-align: middle;\n",
       "    }\n",
       "\n",
       "    .dataframe tbody tr th {\n",
       "        vertical-align: top;\n",
       "    }\n",
       "\n",
       "    .dataframe thead th {\n",
       "        text-align: right;\n",
       "    }\n",
       "</style>\n",
       "<table border=\"1\" class=\"dataframe\">\n",
       "  <thead>\n",
       "    <tr style=\"text-align: right;\">\n",
       "      <th></th>\n",
       "      <th>id</th>\n",
       "      <th>sequence</th>\n",
       "    </tr>\n",
       "  </thead>\n",
       "  <tbody>\n",
       "    <tr>\n",
       "      <th>0</th>\n",
       "      <td>sp|Q92508|PIEZ1_HUMAN</td>\n",
       "      <td>MEPHVLGAVLYWLLLPCALLAACLLRFSGLSLVYLLFLLLLPWFPG...</td>\n",
       "    </tr>\n",
       "    <tr>\n",
       "      <th>1</th>\n",
       "      <td>sp|Q9H5I5|PIEZ2_HUMAN</td>\n",
       "      <td>MASEVVCGLIFRLLLPICLAVACAFRYNGLSFVYLIYLLLIPLFSE...</td>\n",
       "    </tr>\n",
       "    <tr>\n",
       "      <th>2</th>\n",
       "      <td>sp|O94886|CSCL1_HUMAN</td>\n",
       "      <td>MMDSPFLELWQSKAVSIREQLGLGDRPNDSYCYNSAKNSTVLQGVT...</td>\n",
       "    </tr>\n",
       "    <tr>\n",
       "      <th>3</th>\n",
       "      <td>sp|Q8TDI7|TMC2_HUMAN</td>\n",
       "      <td>MSHQVKGLKEEARGGVKGRVKSGSPHTGDRLGRRSSSKRALKAEGT...</td>\n",
       "    </tr>\n",
       "    <tr>\n",
       "      <th>4</th>\n",
       "      <td>sp|Q13936|CAC1C_HUMAN</td>\n",
       "      <td>MVNENTRMYIPEENHQGSNYGSPRPAHANMNANAAAGLAPEHIPTP...</td>\n",
       "    </tr>\n",
       "  </tbody>\n",
       "</table>\n",
       "</div>"
      ],
      "text/plain": [
       "                      id                                           sequence\n",
       "0  sp|Q92508|PIEZ1_HUMAN  MEPHVLGAVLYWLLLPCALLAACLLRFSGLSLVYLLFLLLLPWFPG...\n",
       "1  sp|Q9H5I5|PIEZ2_HUMAN  MASEVVCGLIFRLLLPICLAVACAFRYNGLSFVYLIYLLLIPLFSE...\n",
       "2  sp|O94886|CSCL1_HUMAN  MMDSPFLELWQSKAVSIREQLGLGDRPNDSYCYNSAKNSTVLQGVT...\n",
       "3   sp|Q8TDI7|TMC2_HUMAN  MSHQVKGLKEEARGGVKGRVKSGSPHTGDRLGRRSSSKRALKAEGT...\n",
       "4  sp|Q13936|CAC1C_HUMAN  MVNENTRMYIPEENHQGSNYGSPRPAHANMNANAAAGLAPEHIPTP..."
      ]
     },
     "execution_count": 13,
     "metadata": {},
     "output_type": "execute_result"
    }
   ],
   "source": [
    "a.head()"
   ]
  },
  {
   "cell_type": "code",
   "execution_count": 14,
   "metadata": {},
   "outputs": [
    {
     "data": {
      "text/html": [
       "<div>\n",
       "<style scoped>\n",
       "    .dataframe tbody tr th:only-of-type {\n",
       "        vertical-align: middle;\n",
       "    }\n",
       "\n",
       "    .dataframe tbody tr th {\n",
       "        vertical-align: top;\n",
       "    }\n",
       "\n",
       "    .dataframe thead th {\n",
       "        text-align: right;\n",
       "    }\n",
       "</style>\n",
       "<table border=\"1\" class=\"dataframe\">\n",
       "  <thead>\n",
       "    <tr style=\"text-align: right;\">\n",
       "      <th></th>\n",
       "      <th>id</th>\n",
       "      <th>sequence</th>\n",
       "    </tr>\n",
       "  </thead>\n",
       "  <tbody>\n",
       "    <tr>\n",
       "      <th>0</th>\n",
       "      <td>sp|P52594|AGFG1_HUMAN</td>\n",
       "      <td>MAASAKRKQEEKHLKMLRDMTGLPHNRKCFDCDQRGPTYVNMTVGS...</td>\n",
       "    </tr>\n",
       "    <tr>\n",
       "      <th>1</th>\n",
       "      <td>sp|Q9UKV8|AGO2_HUMAN</td>\n",
       "      <td>MYSGAGPALAPPAPPPPIQGYAFKPPPRPDFGTSGRTIKLQANFFE...</td>\n",
       "    </tr>\n",
       "    <tr>\n",
       "      <th>2</th>\n",
       "      <td>sp|Q9NZN5|ARHGC_HUMAN</td>\n",
       "      <td>MSGTQSTITDRFPLKKPIRHGSILNRESPTDKKQKVERIASHDFDP...</td>\n",
       "    </tr>\n",
       "    <tr>\n",
       "      <th>3</th>\n",
       "      <td>sp|O60885|BRD4_HUMAN</td>\n",
       "      <td>MSAESGPGTRLRNLPVMGDGLETSQMSTTQAQAQPQPANAASTNPP...</td>\n",
       "    </tr>\n",
       "    <tr>\n",
       "      <th>4</th>\n",
       "      <td>sp|P43155|CACP_HUMAN</td>\n",
       "      <td>MLAFAARTVVKPLGFLKPFSLMKASSRFKAHQDALPRLPVPPLQQS...</td>\n",
       "    </tr>\n",
       "    <tr>\n",
       "      <th>...</th>\n",
       "      <td>...</td>\n",
       "      <td>...</td>\n",
       "    </tr>\n",
       "    <tr>\n",
       "      <th>544</th>\n",
       "      <td>sp|Q00896|A1AT3_MOUSE</td>\n",
       "      <td>MTPSISWGLLLLAGLCCLVPSFLAEDVQETDTSQKDQSPASHEIAT...</td>\n",
       "    </tr>\n",
       "    <tr>\n",
       "      <th>545</th>\n",
       "      <td>sp|Q80ZQ9|ABITM_MOUSE</td>\n",
       "      <td>MEELRCPEAKLAPPEVVIATEAPPPSLVDRYFTRWYKADVKGKPCE...</td>\n",
       "    </tr>\n",
       "    <tr>\n",
       "      <th>546</th>\n",
       "      <td>sp|P05202|AATM_MOUSE</td>\n",
       "      <td>MALLHSSRILSGMAAAFHPGLAAAASARASSWWTHVEMGPPDPILG...</td>\n",
       "    </tr>\n",
       "    <tr>\n",
       "      <th>547</th>\n",
       "      <td>sp|Q99PU5|ACBG1_MOUSE</td>\n",
       "      <td>MPRGSEAGYCCLSRDSNMPDSRDDQQQGASLGTSQDNSQTSSLIDG...</td>\n",
       "    </tr>\n",
       "    <tr>\n",
       "      <th>548</th>\n",
       "      <td>sp|P48036|ANXA5_MOUSE</td>\n",
       "      <td>MATRGTVTDFPGFDGRADAEVLRKAMKGLGTDEDSILNLLTSRSNA...</td>\n",
       "    </tr>\n",
       "  </tbody>\n",
       "</table>\n",
       "<p>549 rows × 2 columns</p>\n",
       "</div>"
      ],
      "text/plain": [
       "                        id                                           sequence\n",
       "0    sp|P52594|AGFG1_HUMAN  MAASAKRKQEEKHLKMLRDMTGLPHNRKCFDCDQRGPTYVNMTVGS...\n",
       "1     sp|Q9UKV8|AGO2_HUMAN  MYSGAGPALAPPAPPPPIQGYAFKPPPRPDFGTSGRTIKLQANFFE...\n",
       "2    sp|Q9NZN5|ARHGC_HUMAN  MSGTQSTITDRFPLKKPIRHGSILNRESPTDKKQKVERIASHDFDP...\n",
       "3     sp|O60885|BRD4_HUMAN  MSAESGPGTRLRNLPVMGDGLETSQMSTTQAQAQPQPANAASTNPP...\n",
       "4     sp|P43155|CACP_HUMAN  MLAFAARTVVKPLGFLKPFSLMKASSRFKAHQDALPRLPVPPLQQS...\n",
       "..                     ...                                                ...\n",
       "544  sp|Q00896|A1AT3_MOUSE  MTPSISWGLLLLAGLCCLVPSFLAEDVQETDTSQKDQSPASHEIAT...\n",
       "545  sp|Q80ZQ9|ABITM_MOUSE  MEELRCPEAKLAPPEVVIATEAPPPSLVDRYFTRWYKADVKGKPCE...\n",
       "546   sp|P05202|AATM_MOUSE  MALLHSSRILSGMAAAFHPGLAAAASARASSWWTHVEMGPPDPILG...\n",
       "547  sp|Q99PU5|ACBG1_MOUSE  MPRGSEAGYCCLSRDSNMPDSRDDQQQGASLGTSQDNSQTSSLIDG...\n",
       "548  sp|P48036|ANXA5_MOUSE  MATRGTVTDFPGFDGRADAEVLRKAMKGLGTDEDSILNLLTSRSNA...\n",
       "\n",
       "[549 rows x 2 columns]"
      ]
     },
     "execution_count": 14,
     "metadata": {},
     "output_type": "execute_result"
    }
   ],
   "source": [
    "b"
   ]
  },
  {
   "cell_type": "code",
   "execution_count": 15,
   "metadata": {},
   "outputs": [],
   "source": [
    "a['feature'] = 'positive'\n",
    "b['feature'] = 'negative'"
   ]
  },
  {
   "cell_type": "code",
   "execution_count": 16,
   "metadata": {},
   "outputs": [],
   "source": [
    "#a.to_excel('/Users/yumeichen/Desktop/positivem.xls')\n",
    "#b.to_excel('/Users/yumeichen/Desktop/negativeh.xls')\n",
    "#c.to_excel('/Users/yumeichen/Desktop/combine.xls')"
   ]
  },
  {
   "cell_type": "markdown",
   "metadata": {},
   "source": [
    "# Sequence counts"
   ]
  },
  {
   "cell_type": "code",
   "execution_count": 17,
   "metadata": {},
   "outputs": [],
   "source": [
    "# Length of sequence in positive sample.\n",
    "sequencelen = a['sequence'].str.len()\n",
    "sequencemax_argmax = sequencelen[sequencelen == sequencelen.max()].index"
   ]
  },
  {
   "cell_type": "code",
   "execution_count": 18,
   "metadata": {},
   "outputs": [
    {
     "data": {
      "text/plain": [
       "Int64Index([93], dtype='int64')"
      ]
     },
     "execution_count": 18,
     "metadata": {},
     "output_type": "execute_result"
    }
   ],
   "source": [
    "sequencemax_argmax"
   ]
  },
  {
   "cell_type": "code",
   "execution_count": 19,
   "metadata": {},
   "outputs": [
    {
     "data": {
      "image/png": "[encoded data removed]",
      "text/plain": [
       "<Figure size 432x288 with 1 Axes>"
      ]
     },
     "metadata": {
      "needs_background": "light"
     },
     "output_type": "display_data"
    }
   ],
   "source": [
    "import matplotlib.pyplot as plt\n",
    "plt.hist(sequencelen, edgecolor='k', alpha=0.35)\n",
    "plt.show()"
   ]
  },
  {
   "cell_type": "code",
   "execution_count": 20,
   "metadata": {},
   "outputs": [
    {
     "data": {
      "text/plain": [
       "0      2521\n",
       "1      2752\n",
       "2       807\n",
       "3       906\n",
       "4      2221\n",
       "       ... \n",
       "529     199\n",
       "530     225\n",
       "531     213\n",
       "532     731\n",
       "533     385\n",
       "Name: sequence, Length: 534, dtype: int64"
      ]
     },
     "execution_count": 20,
     "metadata": {},
     "output_type": "execute_result"
    }
   ],
   "source": [
    "sequencelen"
   ]
  },
  {
   "cell_type": "code",
   "execution_count": 21,
   "metadata": {},
   "outputs": [],
   "source": [
    "a['sequencelen'] = sequencelen"
   ]
  },
  {
   "cell_type": "code",
   "execution_count": 22,
   "metadata": {},
   "outputs": [],
   "source": [
    "# Length of sequence in negative sample.\n",
    "nsequencelen = b['sequence'].str.len()\n",
    "nsequencemax_argmax = nsequencelen[nsequencelen == nsequencelen.max()].index"
   ]
  },
  {
   "cell_type": "code",
   "execution_count": 23,
   "metadata": {},
   "outputs": [
    {
     "data": {
      "text/plain": [
       "Int64Index([52], dtype='int64')"
      ]
     },
     "execution_count": 23,
     "metadata": {},
     "output_type": "execute_result"
    }
   ],
   "source": [
    "nsequencemax_argmax"
   ]
  },
  {
   "cell_type": "code",
   "execution_count": 24,
   "metadata": {},
   "outputs": [
    {
     "data": {
      "image/png": "[encoded data removed]",
      "text/plain": [
       "<Figure size 432x288 with 1 Axes>"
      ]
     },
     "metadata": {
      "needs_background": "light"
     },
     "output_type": "display_data"
    }
   ],
   "source": [
    "plt.hist(nsequencelen, edgecolor='k', alpha=0.35)\n",
    "plt.show()"
   ]
  },
  {
   "cell_type": "code",
   "execution_count": 25,
   "metadata": {},
   "outputs": [],
   "source": [
    "b['sequencelen'] = nsequencelen"
   ]
  },
  {
   "cell_type": "markdown",
   "metadata": {},
   "source": [
    "# remove long sequence"
   ]
  },
  {
   "cell_type": "code",
   "execution_count": 26,
   "metadata": {},
   "outputs": [],
   "source": [
    "a2 = a.drop(a[a['sequencelen'] >= 3000].index)"
   ]
  },
  {
   "cell_type": "code",
   "execution_count": 27,
   "metadata": {},
   "outputs": [
    {
     "data": {
      "image/png": "[encoded data removed]",
      "text/plain": [
       "<Figure size 432x288 with 1 Axes>"
      ]
     },
     "metadata": {
      "needs_background": "light"
     },
     "output_type": "display_data"
    }
   ],
   "source": [
    "plt.hist(a2['sequencelen'], edgecolor='k', alpha=0.35)\n",
    "plt.show()"
   ]
  },
  {
   "cell_type": "code",
   "execution_count": 28,
   "metadata": {},
   "outputs": [],
   "source": [
    "c = pd.concat( [a2,b], axis=0 )"
   ]
  },
  {
   "cell_type": "code",
   "execution_count": 29,
   "metadata": {},
   "outputs": [],
   "source": [
    "c = c.reset_index()"
   ]
  },
  {
   "cell_type": "code",
   "execution_count": 30,
   "metadata": {},
   "outputs": [
    {
     "data": {
      "text/plain": [
       "2959"
      ]
     },
     "execution_count": 30,
     "metadata": {},
     "output_type": "execute_result"
    }
   ],
   "source": [
    "max(c['sequencelen'])"
   ]
  },
  {
   "cell_type": "code",
   "execution_count": 31,
   "metadata": {},
   "outputs": [],
   "source": [
    "from sklearn.preprocessing import LabelBinarizer\n",
    "\n",
    "from keras.preprocessing import text, sequence\n",
    "from keras.preprocessing.text import Tokenizer\n",
    "from sklearn.model_selection import train_test_split\n",
    "\n",
    "from keras.models import Sequential\n",
    "from keras.layers import Dense, Conv1D, MaxPooling1D, Flatten\n",
    "from keras.layers import LSTM\n",
    "from keras.layers.embeddings import Embedding\n",
    "\n",
    "from sklearn.metrics import confusion_matrix, accuracy_score, classification_report"
   ]
  },
  {
   "cell_type": "code",
   "execution_count": 32,
   "metadata": {},
   "outputs": [],
   "source": [
    "max_length = 2959\n",
    "seqs = c.sequence.values\n",
    "#create and fit tokenizer\n",
    "tokenizer = Tokenizer(char_level=True)\n",
    "tokenizer.fit_on_texts(seqs)\n",
    "#represent input data as word rank number sequences\n",
    "X = tokenizer.texts_to_sequences(seqs)\n",
    "x1 = sequence.pad_sequences(X, maxlen=max_length)\n",
    "x2 = sequence.pad_sequences(X, maxlen=max_length,padding='post')"
   ]
  },
  {
   "cell_type": "code",
   "execution_count": 34,
   "metadata": {},
   "outputs": [],
   "source": [
    "#x1 pre padding, x2 post padding\n",
    "#combine pre and post padding\n",
    "X_new = np.hstack((x1,x2))"
   ]
  },
  {
   "cell_type": "code",
   "execution_count": 35,
   "metadata": {},
   "outputs": [
    {
     "data": {
      "text/plain": [
       "2959"
      ]
     },
     "execution_count": 35,
     "metadata": {},
     "output_type": "execute_result"
    }
   ],
   "source": [
    "lengths = [len(s) for s in seqs]\n",
    "max(lengths)"
   ]
  },
  {
   "cell_type": "code",
   "execution_count": 36,
   "metadata": {},
   "outputs": [],
   "source": [
    "# Transform labels to one-hot\n",
    "lb = LabelBinarizer()\n",
    "Y = lb.fit_transform(c.feature)"
   ]
  },
  {
   "cell_type": "code",
   "execution_count": 37,
   "metadata": {
    "scrolled": false
   },
   "outputs": [
    {
     "data": {
      "text/plain": [
       "(1078, 1)"
      ]
     },
     "execution_count": 37,
     "metadata": {},
     "output_type": "execute_result"
    }
   ],
   "source": [
    "Y.shape"
   ]
  },
  {
   "cell_type": "code",
   "execution_count": 38,
   "metadata": {},
   "outputs": [
    {
     "data": {
      "text/plain": [
       "(1078, 5918, 21)"
      ]
     },
     "execution_count": 38,
     "metadata": {},
     "output_type": "execute_result"
    }
   ],
   "source": [
    "#x1 pre padding numercial\n",
    "#x2 post padding numercial\n",
    "#X_new combine numercial\n",
    "\n",
    "# One hot encoding of sequences\n",
    "X_binary = to_categorical(X_new)\n",
    "X_binary.shape"
   ]
  },
  {
   "cell_type": "code",
   "execution_count": 37,
   "metadata": {},
   "outputs": [],
   "source": [
    "#reduce dimension directly\n",
    "#nsamples, nx, ny = X.shape\n",
    "#X = X_binary.reshape((nsamples,nx*ny))"
   ]
  },
  {
   "cell_type": "code",
   "execution_count": 39,
   "metadata": {},
   "outputs": [
    {
     "name": "stdout",
     "output_type": "stream",
     "text": [
      "(1078, 5918)\n"
     ]
    },
    {
     "data": {
      "text/plain": [
       "array([0.82992852, 0.82992977, 0.82992989, ..., 0.82992989, 0.82992989,\n",
       "       0.82992989])"
      ]
     },
     "execution_count": 39,
     "metadata": {},
     "output_type": "execute_result"
    }
   ],
   "source": [
    "# pca\n",
    "from sklearn.manifold import LocallyLinearEmbedding\n",
    "from sklearn.decomposition import PCA\n",
    "from sklearn.decomposition import IncrementalPCA\n",
    "from sklearn.decomposition import KernelPCA\n",
    "from sklearn.decomposition import SparsePCA\n",
    "from sklearn.manifold import MDS\n",
    "from sklearn.manifold import Isomap\n",
    "from sklearn.manifold import TSNE\n",
    "from sklearn.decomposition import TruncatedSVD\n",
    "from sklearn.random_projection import GaussianRandomProjection\n",
    "from sklearn.decomposition import FastICA\n",
    "from sklearn.decomposition import MiniBatchDictionaryLearning\n",
    "from sklearn.random_projection import SparseRandomProjection\n",
    "from keras.models import Sequential, Model\n",
    "from keras.layers import Dense\n",
    "from keras.optimizers import Adam\n",
    "\n",
    "# PCA\n",
    "pca = PCA(n_components = 1)\n",
    "X_binary_pca = np.zeros((len(X_binary),len(X_binary[0])))\n",
    "\n",
    "for i in range(0,len(X_binary)):\n",
    "    entry = X_binary[i]\n",
    "    entry_pca = pca.fit_transform(entry)\n",
    "    X_binary_pca[i,:] = entry_pca.reshape(len(entry_pca))\n",
    "print(X_binary_pca.shape)\n",
    "X_binary_pca[0]"
   ]
  },
  {
   "cell_type": "code",
   "execution_count": 40,
   "metadata": {},
   "outputs": [
    {
     "name": "stdout",
     "output_type": "stream",
     "text": [
      "(1078, 5918, 21)\n",
      "(1078, 5918, 3)\n",
      "(1078, 5918, 24)\n"
     ]
    }
   ],
   "source": [
    "# adding polarity, charge and hydrophobicity properties as additional entries\n",
    "(a,b) = X_new.shape\n",
    "X_chem = np.zeros(((a,b,3)))\n",
    "#X_chem(:,:,1) indicate polarity\n",
    "#X_chem(:,:,2) indicate charge\n",
    "#X_chem(:,:,3) indicate hydrophobicity\n",
    "\n",
    "for i in range(0,a):\n",
    "    for j in range(0,b):\n",
    "        if X_new[i,j]==1:#L\n",
    "            X_chem[i][j][2]=1\n",
    "        if X_new[i,j]==2:#S\n",
    "            X_chem[i][j][0]=1\n",
    "        if X_new[i,j]==3:#G\n",
    "            X_chem[i][j][2]=1\n",
    "        if X_new[i,j]==4:#A\n",
    "            X_chem[i][j][2]=1\n",
    "        if X_new[i,j]==5:#E\n",
    "            X_chem[i][j][1] = 1\n",
    "        if X_new[i,j]==6:#P\n",
    "            X_chem[i][j][2]=1\n",
    "        if X_new[i,j]==7:#V\n",
    "            X_chem[i][j][2]=1\n",
    "        if X_new[i,j]==8:#K\n",
    "            X_chem[i][j][1]=1\n",
    "        if X_new[i,j]==9:#R\n",
    "            X_chem[i][j][1]=1\n",
    "        if X_new[i,j]==10:#T\n",
    "            X_chem[i][j][0]=1\n",
    "        if X_new[i,j]==11:#D\n",
    "            X_chem[i][j][1]=1\n",
    "        if X_new[i,j]==12:#I\n",
    "            X_chem[i][j][2]=1\n",
    "        if X_new[i,j]==13:#Q\n",
    "            X_chem[i][j][0]=1\n",
    "        if X_new[i,j]==14:#F\n",
    "            X_chem[i][j][2]=1\n",
    "        if X_new[i,j]==15:#N\n",
    "            X_chem[i][j][0]=1\n",
    "        if X_new[i,j]==16:#Y\n",
    "            X_chem[i][j][0]=1\n",
    "        if X_new[i,j]==17:#H\n",
    "            X_chem[i][j][0]=1\n",
    "        if X_new[i,j]==18:#M\n",
    "            X_chem[i][j][0]=1\n",
    "            X_chem[i][j][2]=1\n",
    "        if X_new[i,j]==19:#C\n",
    "            X_chem[i][j][0]=1\n",
    "        if X_new[i,j]==20:#W\n",
    "            X_chem[i][j][0]=1\n",
    "            \n",
    "X_binary_chem = np.c_[X_binary,X_chem]      \n",
    "print(X_binary.shape)\n",
    "print(X_chem.shape)\n",
    "print(X_binary_chem.shape)"
   ]
  },
  {
   "cell_type": "code",
   "execution_count": 41,
   "metadata": {},
   "outputs": [
    {
     "name": "stdout",
     "output_type": "stream",
     "text": [
      "(1078, 5918)\n"
     ]
    },
    {
     "data": {
      "text/plain": [
       "array([-0.35347901, -0.35347901, -0.35347901, ..., -0.35347901,\n",
       "       -0.35347901, -0.35347901])"
      ]
     },
     "execution_count": 41,
     "metadata": {},
     "output_type": "execute_result"
    }
   ],
   "source": [
    "# reduce dimensionality of X_binary_chem\n",
    "pca = PCA(n_components = 1)\n",
    "X_binary_chem_pca = np.zeros((len(X_binary_chem),len(X_binary_chem[0])))\n",
    "\n",
    "for i in range(0,len(X_binary_chem)):\n",
    "    entry = X_binary_chem[i]\n",
    "    entry_pca = pca.fit_transform(entry)\n",
    "    X_binary_chem_pca[i,:] = entry_pca.reshape(len(entry_pca))\n",
    "print(X_binary_chem_pca.shape)\n",
    "X_binary_chem_pca[0]"
   ]
  },
  {
   "cell_type": "code",
   "execution_count": 42,
   "metadata": {},
   "outputs": [
    {
     "name": "stdout",
     "output_type": "stream",
     "text": [
      "numercial input (1078, 5918)\n",
      "one-hot input (1078, 5918, 21)\n",
      "one-hot pca input (1078, 5918)\n",
      "one-hot with chem input (1078, 5918, 24)\n",
      "one-hot with chem pca input (1078, 5918)\n",
      "one hot-output (1078, 1)\n"
     ]
    }
   ],
   "source": [
    "# shape of all the parameters\n",
    "print('numercial input',X_new.shape)\n",
    "print('one-hot input',X_binary.shape)\n",
    "print('one-hot pca input',X_binary_pca.shape)\n",
    "print('one-hot with chem input',X_binary_chem.shape)\n",
    "print('one-hot with chem pca input',X_binary_chem_pca.shape)\n",
    "print('one hot-output',Y.shape)"
   ]
  },
  {
   "cell_type": "markdown",
   "metadata": {},
   "source": [
    "# SVM"
   ]
  },
  {
   "cell_type": "code",
   "execution_count": 43,
   "metadata": {},
   "outputs": [
    {
     "name": "stdout",
     "output_type": "stream",
     "text": [
      "one-hot with chem pca accuracy: 0.7361111111111112\n",
      "one-hot with chem pca accuracy: 0.7361111111111112\n",
      "one-hot with chem pca accuracy: 0.6944444444444444\n",
      "one-hot with chem pca accuracy: 0.8472222222222222\n",
      "one-hot with chem pca accuracy: 0.7222222222222222\n",
      "one-hot with chem pca accuracy: 0.7777777777777778\n",
      "one-hot with chem pca accuracy: 0.7361111111111112\n",
      "one-hot with chem pca accuracy: 0.8333333333333334\n",
      "one-hot with chem pca accuracy: 0.7222222222222222\n",
      "one-hot with chem pca accuracy: 0.6111111111111112\n",
      "one-hot with chem pca accuracy: 0.7222222222222222\n",
      "one-hot with chem pca accuracy: 0.7916666666666666\n",
      "one-hot with chem pca accuracy: 0.625\n",
      "one-hot with chem pca accuracy: 0.5352112676056338\n",
      "one-hot with chem pca accuracy: 0.4788732394366197\n",
      "average accuracy: 0.704642670839854\n"
     ]
    }
   ],
   "source": [
    "#kf=5, 10, 15, 20\n",
    "# input data: X_new, X_binary_pca ,X_binary_chem_pca\n",
    "from sklearn import svm\n",
    "#inputdata = X_new\n",
    "#name = 'numercial accuracy:'\n",
    "\n",
    "#inputdata = X_binary_pca\n",
    "#name = 'one-hot pca accuracy:'\n",
    "\n",
    "inputdata = X_binary_chem_pca\n",
    "name = 'one-hot with chem pca accuracy:'\n",
    "\n",
    "n_splits = 15\n",
    "\n",
    "x_data=inputdata\n",
    "y_data=Y\n",
    "kf = KFold(n_splits)\n",
    "\n",
    "i=0\n",
    "acc1 = np.zeros(n_splits)\n",
    "\n",
    "for train_index,test_index in kf.split(x_data): \n",
    "    x_train, x_test = x_data[train_index], x_data[test_index]\n",
    "    y_train, y_test = y_data[train_index], y_data[test_index]\n",
    "\n",
    "    clf=svm.SVC(kernel='linear', gamma = 'scale') #gamma = 'scale', kernel = 'linear', 'rbf'\n",
    "    clf_fit=clf.fit(x_train, y_train.ravel())\n",
    "    pred = clf.predict(x_test)\n",
    "    acc1[i] = accuracy_score(pred, y_test)\n",
    "    i=i+1\n",
    "    print(name, accuracy_score(pred, y_test))\n",
    "    \n",
    "print('average accuracy:', np.mean(acc1))"
   ]
  },
  {
   "cell_type": "markdown",
   "metadata": {},
   "source": [
    "# Logistic Regression model"
   ]
  },
  {
   "cell_type": "code",
   "execution_count": 45,
   "metadata": {},
   "outputs": [
    {
     "name": "stderr",
     "output_type": "stream",
     "text": [
      "/Users/yumeichen/opt/anaconda3/lib/python3.7/site-packages/sklearn/linear_model/_sag.py:330: ConvergenceWarning: The max_iter was reached which means the coef_ did not converge\n",
      "  \"the coef_ did not converge\", ConvergenceWarning)\n"
     ]
    },
    {
     "name": "stdout",
     "output_type": "stream",
     "text": [
      "one-hot with chem pca accuracy: 0.6527777777777778\n"
     ]
    },
    {
     "name": "stderr",
     "output_type": "stream",
     "text": [
      "/Users/yumeichen/opt/anaconda3/lib/python3.7/site-packages/sklearn/linear_model/_sag.py:330: ConvergenceWarning: The max_iter was reached which means the coef_ did not converge\n",
      "  \"the coef_ did not converge\", ConvergenceWarning)\n"
     ]
    },
    {
     "name": "stdout",
     "output_type": "stream",
     "text": [
      "one-hot with chem pca accuracy: 0.7083333333333334\n"
     ]
    },
    {
     "name": "stderr",
     "output_type": "stream",
     "text": [
      "/Users/yumeichen/opt/anaconda3/lib/python3.7/site-packages/sklearn/linear_model/_sag.py:330: ConvergenceWarning: The max_iter was reached which means the coef_ did not converge\n",
      "  \"the coef_ did not converge\", ConvergenceWarning)\n"
     ]
    },
    {
     "name": "stdout",
     "output_type": "stream",
     "text": [
      "one-hot with chem pca accuracy: 0.6527777777777778\n"
     ]
    },
    {
     "name": "stderr",
     "output_type": "stream",
     "text": [
      "/Users/yumeichen/opt/anaconda3/lib/python3.7/site-packages/sklearn/linear_model/_sag.py:330: ConvergenceWarning: The max_iter was reached which means the coef_ did not converge\n",
      "  \"the coef_ did not converge\", ConvergenceWarning)\n"
     ]
    },
    {
     "name": "stdout",
     "output_type": "stream",
     "text": [
      "one-hot with chem pca accuracy: 0.8194444444444444\n"
     ]
    },
    {
     "name": "stderr",
     "output_type": "stream",
     "text": [
      "/Users/yumeichen/opt/anaconda3/lib/python3.7/site-packages/sklearn/linear_model/_sag.py:330: ConvergenceWarning: The max_iter was reached which means the coef_ did not converge\n",
      "  \"the coef_ did not converge\", ConvergenceWarning)\n"
     ]
    },
    {
     "name": "stdout",
     "output_type": "stream",
     "text": [
      "one-hot with chem pca accuracy: 0.7083333333333334\n"
     ]
    },
    {
     "name": "stderr",
     "output_type": "stream",
     "text": [
      "/Users/yumeichen/opt/anaconda3/lib/python3.7/site-packages/sklearn/linear_model/_sag.py:330: ConvergenceWarning: The max_iter was reached which means the coef_ did not converge\n",
      "  \"the coef_ did not converge\", ConvergenceWarning)\n"
     ]
    },
    {
     "name": "stdout",
     "output_type": "stream",
     "text": [
      "one-hot with chem pca accuracy: 0.7361111111111112\n"
     ]
    },
    {
     "name": "stderr",
     "output_type": "stream",
     "text": [
      "/Users/yumeichen/opt/anaconda3/lib/python3.7/site-packages/sklearn/linear_model/_sag.py:330: ConvergenceWarning: The max_iter was reached which means the coef_ did not converge\n",
      "  \"the coef_ did not converge\", ConvergenceWarning)\n"
     ]
    },
    {
     "name": "stdout",
     "output_type": "stream",
     "text": [
      "one-hot with chem pca accuracy: 0.7222222222222222\n"
     ]
    },
    {
     "name": "stderr",
     "output_type": "stream",
     "text": [
      "/Users/yumeichen/opt/anaconda3/lib/python3.7/site-packages/sklearn/linear_model/_sag.py:330: ConvergenceWarning: The max_iter was reached which means the coef_ did not converge\n",
      "  \"the coef_ did not converge\", ConvergenceWarning)\n"
     ]
    },
    {
     "name": "stdout",
     "output_type": "stream",
     "text": [
      "one-hot with chem pca accuracy: 0.875\n"
     ]
    },
    {
     "name": "stderr",
     "output_type": "stream",
     "text": [
      "/Users/yumeichen/opt/anaconda3/lib/python3.7/site-packages/sklearn/linear_model/_sag.py:330: ConvergenceWarning: The max_iter was reached which means the coef_ did not converge\n",
      "  \"the coef_ did not converge\", ConvergenceWarning)\n"
     ]
    },
    {
     "name": "stdout",
     "output_type": "stream",
     "text": [
      "one-hot with chem pca accuracy: 0.8888888888888888\n"
     ]
    },
    {
     "name": "stderr",
     "output_type": "stream",
     "text": [
      "/Users/yumeichen/opt/anaconda3/lib/python3.7/site-packages/sklearn/linear_model/_sag.py:330: ConvergenceWarning: The max_iter was reached which means the coef_ did not converge\n",
      "  \"the coef_ did not converge\", ConvergenceWarning)\n"
     ]
    },
    {
     "name": "stdout",
     "output_type": "stream",
     "text": [
      "one-hot with chem pca accuracy: 0.8194444444444444\n"
     ]
    },
    {
     "name": "stderr",
     "output_type": "stream",
     "text": [
      "/Users/yumeichen/opt/anaconda3/lib/python3.7/site-packages/sklearn/linear_model/_sag.py:330: ConvergenceWarning: The max_iter was reached which means the coef_ did not converge\n",
      "  \"the coef_ did not converge\", ConvergenceWarning)\n"
     ]
    },
    {
     "name": "stdout",
     "output_type": "stream",
     "text": [
      "one-hot with chem pca accuracy: 0.8333333333333334\n"
     ]
    },
    {
     "name": "stderr",
     "output_type": "stream",
     "text": [
      "/Users/yumeichen/opt/anaconda3/lib/python3.7/site-packages/sklearn/linear_model/_sag.py:330: ConvergenceWarning: The max_iter was reached which means the coef_ did not converge\n",
      "  \"the coef_ did not converge\", ConvergenceWarning)\n"
     ]
    },
    {
     "name": "stdout",
     "output_type": "stream",
     "text": [
      "one-hot with chem pca accuracy: 0.875\n"
     ]
    },
    {
     "name": "stderr",
     "output_type": "stream",
     "text": [
      "/Users/yumeichen/opt/anaconda3/lib/python3.7/site-packages/sklearn/linear_model/_sag.py:330: ConvergenceWarning: The max_iter was reached which means the coef_ did not converge\n",
      "  \"the coef_ did not converge\", ConvergenceWarning)\n"
     ]
    },
    {
     "name": "stdout",
     "output_type": "stream",
     "text": [
      "one-hot with chem pca accuracy: 0.6111111111111112\n"
     ]
    },
    {
     "name": "stderr",
     "output_type": "stream",
     "text": [
      "/Users/yumeichen/opt/anaconda3/lib/python3.7/site-packages/sklearn/linear_model/_sag.py:330: ConvergenceWarning: The max_iter was reached which means the coef_ did not converge\n",
      "  \"the coef_ did not converge\", ConvergenceWarning)\n"
     ]
    },
    {
     "name": "stdout",
     "output_type": "stream",
     "text": [
      "one-hot with chem pca accuracy: 0.36619718309859156\n",
      "one-hot with chem pca accuracy: 0.38028169014084506\n",
      "average accuracy: 0.7099504434011478\n"
     ]
    },
    {
     "name": "stderr",
     "output_type": "stream",
     "text": [
      "/Users/yumeichen/opt/anaconda3/lib/python3.7/site-packages/sklearn/linear_model/_sag.py:330: ConvergenceWarning: The max_iter was reached which means the coef_ did not converge\n",
      "  \"the coef_ did not converge\", ConvergenceWarning)\n"
     ]
    }
   ],
   "source": [
    "#kf=5, 10, 15\n",
    "# input data: X_new, X_binary_pca ,X_binary_chem_pca\n",
    "from sklearn.linear_model import LogisticRegression\n",
    "#inputdata = X_new\n",
    "#name = 'numercial accuracy:'\n",
    "\n",
    "#inputdata = X_binary_pca\n",
    "#name = 'one-hot pca accuracy:'\n",
    "\n",
    "inputdata = X_binary_chem_pca\n",
    "name = 'one-hot with chem pca accuracy:'\n",
    "\n",
    "n_splits = 15\n",
    "\n",
    "x_data=inputdata\n",
    "y_data=Y\n",
    "kf = KFold(n_splits)\n",
    "\n",
    "i=0\n",
    "acc1 = np.zeros(n_splits)\n",
    "\n",
    "for train_index,test_index in kf.split(x_data): \n",
    "    x_train, x_test = x_data[train_index], x_data[test_index]\n",
    "    y_train, y_test = y_data[train_index], y_data[test_index]\n",
    "\n",
    "    #lr = LogisticRegression()\n",
    "    lr = LogisticRegression(solver = 'saga') #solver = 'lbfgs', solver = ' liblinear', solver = 'sag', solver = 'saga'\n",
    "    lr_fit = lr.fit(x_train, y_train.ravel())\n",
    "    pred = lr.predict(x_test)\n",
    "    acc1[i] = accuracy_score(pred, y_test)\n",
    "    i=i+1\n",
    "    \n",
    "    print(name, accuracy_score(pred, y_test))\n",
    "\n",
    "print('average accuracy:', np.mean(acc1))"
   ]
  },
  {
   "cell_type": "markdown",
   "metadata": {},
   "source": [
    "# Random Forest model"
   ]
  },
  {
   "cell_type": "code",
   "execution_count": 46,
   "metadata": {},
   "outputs": [
    {
     "name": "stdout",
     "output_type": "stream",
     "text": [
      "one-hot with chem pca accuracy: 0.6805555555555556\n",
      "one-hot with chem pca accuracy: 0.7638888888888888\n",
      "one-hot with chem pca accuracy: 0.625\n",
      "one-hot with chem pca accuracy: 0.8472222222222222\n",
      "one-hot with chem pca accuracy: 0.7083333333333334\n",
      "one-hot with chem pca accuracy: 0.8194444444444444\n",
      "one-hot with chem pca accuracy: 0.75\n",
      "one-hot with chem pca accuracy: 0.9305555555555556\n",
      "one-hot with chem pca accuracy: 0.875\n",
      "one-hot with chem pca accuracy: 0.7916666666666666\n",
      "one-hot with chem pca accuracy: 0.8611111111111112\n",
      "one-hot with chem pca accuracy: 0.875\n",
      "one-hot with chem pca accuracy: 0.6527777777777778\n",
      "one-hot with chem pca accuracy: 0.3380281690140845\n",
      "one-hot with chem pca accuracy: 0.39436619718309857\n",
      "average accuracy: 0.727529994783516\n"
     ]
    }
   ],
   "source": [
    "#kf=5, 10, 15\n",
    "# input data: X_new, X_binary_pca ,X_binary_chem_pca\n",
    "from sklearn.ensemble import RandomForestClassifier\n",
    "#inputdata = X_new\n",
    "#name = 'numercial accuracy:'\n",
    "\n",
    "#inputdata = X_binary_pca\n",
    "#name = 'one-hot pca accuracy:'\n",
    "\n",
    "inputdata = X_binary_chem_pca\n",
    "name = 'one-hot with chem pca accuracy:'\n",
    "\n",
    "n_splits = 15\n",
    "\n",
    "x_data=inputdata\n",
    "y_data=Y\n",
    "kf = KFold(n_splits)\n",
    "\n",
    "i=0\n",
    "acc1 = np.zeros(n_splits)\n",
    "\n",
    "for train_index,test_index in kf.split(x_data): \n",
    "    x_train, x_test = x_data[train_index], x_data[test_index]\n",
    "    y_train, y_test = y_data[train_index], y_data[test_index]\n",
    "\n",
    "    forest = RandomForestClassifier(n_estimators=100)   \n",
    "    #forest = RandomForestClassifier() , n_estimators=20,max_depth=20\n",
    "    forest_fit = forest.fit(x_train, y_train.ravel())\n",
    "    pred = forest.predict(x_test)\n",
    "    acc1[i] = accuracy_score(pred, y_test)\n",
    "    i=i+1\n",
    "\n",
    "    print(name, accuracy_score(pred, y_test))\n",
    "\n",
    "print('average accuracy:', np.mean(acc1))"
   ]
  },
  {
   "cell_type": "markdown",
   "metadata": {},
   "source": [
    "# Gradient Boosting machine"
   ]
  },
  {
   "cell_type": "code",
   "execution_count": 47,
   "metadata": {},
   "outputs": [
    {
     "name": "stdout",
     "output_type": "stream",
     "text": [
      "one-hot with chem pca accuracy: 0.6805555555555556\n",
      "one-hot with chem pca accuracy: 0.7361111111111112\n",
      "one-hot with chem pca accuracy: 0.625\n",
      "one-hot with chem pca accuracy: 0.7916666666666666\n",
      "one-hot with chem pca accuracy: 0.6944444444444444\n",
      "one-hot with chem pca accuracy: 0.7777777777777778\n",
      "one-hot with chem pca accuracy: 0.7361111111111112\n",
      "one-hot with chem pca accuracy: 0.9027777777777778\n",
      "one-hot with chem pca accuracy: 0.8888888888888888\n",
      "one-hot with chem pca accuracy: 0.8194444444444444\n",
      "one-hot with chem pca accuracy: 0.8333333333333334\n",
      "one-hot with chem pca accuracy: 0.875\n",
      "one-hot with chem pca accuracy: 0.625\n",
      "one-hot with chem pca accuracy: 0.352112676056338\n",
      "one-hot with chem pca accuracy: 0.39436619718309857\n",
      "average accuracy: 0.7155059989567032\n"
     ]
    }
   ],
   "source": [
    "#kf=5, 10, 15\n",
    "# input data: X_new, X_binary_pca ,X_binary_chem_pca\n",
    "\n",
    "from sklearn.ensemble import GradientBoostingClassifier\n",
    "#inputdata = X_new\n",
    "#name = 'numercial accuracy:'\n",
    "\n",
    "#inputdata = X_binary_pca\n",
    "#name = 'one-hot pca accuracy:'\n",
    "\n",
    "inputdata = X_binary_chem_pca\n",
    "name = 'one-hot with chem pca accuracy:'\n",
    "\n",
    "x_data=inputdata\n",
    "y_data=Y\n",
    "\n",
    "n_splits = 15\n",
    "kf = KFold(n_splits)\n",
    "\n",
    "i = 0\n",
    "acc1 = np.zeros(n_splits)\n",
    "for train_index,test_index in kf.split(x_data): \n",
    "    x_train, x_test = x_data[train_index], x_data[test_index]\n",
    "    y_train, y_test = y_data[train_index], y_data[test_index]\n",
    "\n",
    "    #xgboost = GradientBoostingClassifier(n_estimators=40, learning_rate=0.01, max_depth=3)\n",
    "    xgboost = GradientBoostingClassifier()\n",
    "    xgboost.fit(x_train,y_train.ravel())\n",
    "    pred = xgboost.predict(x_test)\n",
    "    acc1[i] = accuracy_score(pred, y_test)\n",
    "    i=i+1\n",
    "    \n",
    "    print(name, accuracy_score(pred, y_test))\n",
    "print('average accuracy:', np.mean(acc1))"
   ]
  },
  {
   "cell_type": "markdown",
   "metadata": {},
   "source": [
    "# Decision Tree"
   ]
  },
  {
   "cell_type": "code",
   "execution_count": 48,
   "metadata": {},
   "outputs": [
    {
     "name": "stdout",
     "output_type": "stream",
     "text": [
      "one-hot with chem pca accuracy: 0.6666666666666666\n",
      "one-hot with chem pca accuracy: 0.6388888888888888\n",
      "one-hot with chem pca accuracy: 0.5277777777777778\n",
      "one-hot with chem pca accuracy: 0.8472222222222222\n",
      "one-hot with chem pca accuracy: 0.7083333333333334\n",
      "one-hot with chem pca accuracy: 0.7361111111111112\n",
      "one-hot with chem pca accuracy: 0.6388888888888888\n",
      "one-hot with chem pca accuracy: 0.7083333333333334\n",
      "one-hot with chem pca accuracy: 0.75\n",
      "one-hot with chem pca accuracy: 0.6944444444444444\n",
      "one-hot with chem pca accuracy: 0.7777777777777778\n",
      "one-hot with chem pca accuracy: 0.75\n",
      "one-hot with chem pca accuracy: 0.5555555555555556\n",
      "one-hot with chem pca accuracy: 0.4225352112676056\n",
      "one-hot with chem pca accuracy: 0.4225352112676056\n",
      "average accuracy: 0.6563380281690141\n"
     ]
    }
   ],
   "source": [
    "#kf=5, 10, 15\n",
    "# input data: X_new, X_binary_pca ,X_binary_chem_pca\n",
    "\n",
    "from sklearn.tree import DecisionTreeClassifier\n",
    "\n",
    "#inputdata = X_new\n",
    "#name = 'numercial accuracy:'\n",
    "\n",
    "#inputdata = X_binary_pca\n",
    "#name = 'one-hot pca accuracy:'\n",
    "\n",
    "inputdata = X_binary_chem_pca\n",
    "name = 'one-hot with chem pca accuracy:'\n",
    "x_data=inputdata\n",
    "y_data=Y\n",
    "\n",
    "n_splits =15\n",
    "kf = KFold(n_splits)\n",
    "\n",
    "i=0\n",
    "acc1 = np.zeros(n_splits)\n",
    "for train_index,test_index in kf.split(x_data): \n",
    "    x_train, x_test = x_data[train_index], x_data[test_index]\n",
    "    y_train, y_test = y_data[train_index], y_data[test_index]\n",
    "\n",
    "    decisiontree = DecisionTreeClassifier()\n",
    "    decisiontree.fit(x_train,y_train)\n",
    "    \n",
    "    pred = decisiontree.predict(x_test)\n",
    "    acc1[i] = accuracy_score(pred, y_test)\n",
    "    i=i+1\n",
    "    \n",
    "    print(name, accuracy_score(pred, y_test))\n",
    "    \n",
    "print('average accuracy:', np.mean(acc1))"
   ]
  },
  {
   "cell_type": "code",
   "execution_count": null,
   "metadata": {},
   "outputs": [],
   "source": []
  }
 ],
 "metadata": {
  "kernelspec": {
   "display_name": "Python 3",
   "language": "python",
   "name": "python3"
  },
  "language_info": {
   "codemirror_mode": {
    "name": "ipython",
    "version": 3
   },
   "file_extension": ".py",
   "mimetype": "text/x-python",
   "name": "python",
   "nbconvert_exporter": "python",
   "pygments_lexer": "ipython3",
   "version": "3.7.6"
  }
 },
 "nbformat": 4,
 "nbformat_minor": 2
}
